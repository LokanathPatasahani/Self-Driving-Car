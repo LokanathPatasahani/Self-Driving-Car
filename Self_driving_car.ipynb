{
  "nbformat": 4,
  "nbformat_minor": 0,
  "metadata": {
    "colab": {
      "provenance": []
    },
    "kernelspec": {
      "name": "python3",
      "display_name": "Python 3"
    },
    "language_info": {
      "name": "python"
    }
  },
  "cells": [
    {
      "cell_type": "code",
      "execution_count": 2,
      "metadata": {
        "id": "qfXwj0e-npiP",
        "colab": {
          "base_uri": "https://localhost:8080/",
          "height": 131
        },
        "outputId": "9ae3ba45-9672-469a-c9b4-12589e9852d8"
      },
      "outputs": [
        {
          "output_type": "error",
          "ename": "SyntaxError",
          "evalue": "ignored",
          "traceback": [
            "\u001b[0;36m  File \u001b[0;32m\"<ipython-input-2-7ba2df249e6a>\"\u001b[0;36m, line \u001b[0;32m1\u001b[0m\n\u001b[0;31m    pip install pygame\u001b[0m\n\u001b[0m        ^\u001b[0m\n\u001b[0;31mSyntaxError\u001b[0m\u001b[0;31m:\u001b[0m invalid syntax\n"
          ]
        }
      ],
      "source": [
        "\n",
        "import pygame  #pygame imported and initialized\n",
        "pygame.init()\n",
        "window = pygame.display.set_mode((1200, 400))   #declared a window \n",
        "track = pygame.image.load('track6.png')  #loaded the image of road and car\n",
        "car = pygame.image.load('tesla.png')\n",
        "car = pygame.transform.scale(car, (30, 60))   #scaled down the size of the car\n",
        "car_x = 155    #changed the axis to take the  car on the track\n",
        "car_y = 300\n",
        "focal_dis = 25\n",
        "cam_x_offset = 0\n",
        "cam_y_offset = 0\n",
        "direction = 'up'\n",
        "drive = True\n",
        "clock = pygame.time.Clock()\n",
        "while drive:\n",
        "    for event in pygame.event.get():\n",
        "        if event.type == pygame.QUIT:\n",
        "            drive = False\n",
        "    clock.tick(60) # its to set the speed of the car\n",
        "    cam_x = car_x + cam_x_offset + 15\n",
        "    cam_y = car_y + cam_y_offset + 15\n",
        "    up_px = window.get_at((cam_x, cam_y - focal_dis))[0]\n",
        "    down_px = window.get_at((cam_x, cam_y + focal_dis))[0]\n",
        "    right_px = window.get_at((cam_x + focal_dis, cam_y))[0]\n",
        "    print(up_px, right_px, down_px)\n",
        "\n",
        "    # change direction (take turn)\n",
        "    if direction == 'up' and up_px != 255 and right_px == 255:\n",
        "        direction = 'right'\n",
        "        cam_x_offset = 30\n",
        "        car = pygame.transform.rotate(car, -90)\n",
        "    elif direction == 'right' and right_px != 255 and down_px == 255:\n",
        "        direction = 'down'\n",
        "        car_x = car_x + 30\n",
        "        cam_x_offset = 0\n",
        "        cam_y_offset = 30\n",
        "        car = pygame.transform.rotate(car, -90)\n",
        "    elif direction == 'down' and down_px != 255 and right_px == 255:\n",
        "        direction = 'right'\n",
        "        car_y = car_y + 30\n",
        "        cam_x_offset = 30\n",
        "        cam_y_offset = 0\n",
        "        car = pygame.transform.rotate(car, 90)\n",
        "    elif direction == 'right' and right_px != 255 and up_px == 255:\n",
        "        direction = 'up'\n",
        "        car_x = car_x + 30\n",
        "        cam_x_offset = 0\n",
        "        car = pygame.transform.rotate(car, 90)\n",
        "    # drive\n",
        "    if direction == 'up' and up_px == 255:\n",
        "        car_y = car_y - 2\n",
        "    elif direction == 'right' and right_px == 255:\n",
        "        car_x = car_x + 2\n",
        "    elif direction == 'down' and down_px == 255:\n",
        "        car_y = car_y + 2\n",
        "    window.blit(track, (0, 0))\n",
        "    window.blit(car, (car_x, car_y))\n",
        "    pygame.draw.circle(window, (0, 255, 0), (cam_x, cam_y), 5, 5)\n",
        "    pygame.display.update()"
      ]
    }
  ]
}